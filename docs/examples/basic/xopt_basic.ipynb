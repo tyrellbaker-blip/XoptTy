{
 "cells": [
  {
   "cell_type": "markdown",
   "metadata": {
    "pycharm": {
     "name": "#%% md\n"
    }
   },
   "source": [
    "# Xopt basic example\n",
    "\n",
    "An Xopt problem can be described by a simple YAML file. Here we will demonstrate how this is used to optimize a well-known constrained multi-objective test function, TNK. The TNK function is defined with:\n",
    "\n",
    "$n=2$ variables:\n",
    "$x_i \\in [0, \\pi], i=1,2$\n",
    "\n",
    "Objectives:\n",
    "- $f_i(x) = x_i$\n",
    "\n",
    "Constraints:\n",
    "- $g_1(x) = -x_1^2 -x_2^2 + 1 + 0.1 \\cos\\left(16 \\arctan \\frac{x_1}{x_2}\\right) \\le 0$\n",
    "- $g_2(x) = (x_1 - 1/2)^2 + (x_2-1/2)^2 \\le 0.5$"
   ]
  },
  {
   "cell_type": "code",
   "execution_count": 1,
   "metadata": {
    "execution": {
     "iopub.execute_input": "2022-07-02T04:16:41.207662Z",
     "iopub.status.busy": "2022-07-02T04:16:41.207282Z",
     "iopub.status.idle": "2022-07-02T04:16:41.884950Z",
     "shell.execute_reply": "2022-07-02T04:16:41.884323Z"
    },
    "pycharm": {
     "name": "#%%\n"
    }
   },
   "outputs": [],
   "source": [
    "# Import the class\n",
    "from xopt import Xopt"
   ]
  },
  {
   "cell_type": "code",
   "execution_count": 2,
   "metadata": {},
   "outputs": [],
   "source": [
    "# Nicer plotting\n",
    "%config InlineBackend.figure_format = 'retina'"
   ]
  },
  {
   "cell_type": "markdown",
   "metadata": {
    "collapsed": false,
    "pycharm": {
     "name": "#%% md\n"
    }
   },
   "source": [
    "## Xopt Components\n",
    "The definition of the Xopt object requires 4 parts, listed below:\n",
    "- The `Xopt` object itself, which controlls data flow, stores data and governs data\n",
    "loading and saving.\n",
    "- The `Evaluator` object, which evaluates input points using the arbitrary function\n",
    "specified by the `function` property.\n",
    "- The `Generator` object, which, when given data that has been evaluated, generates\n",
    "future points to evaluate using the evaluator.\n",
    "- The `VOCS` (variables, objectives, constraints, statics) object, which specifies the\n",
    "input domain, the objectives, constraints and constants passed to the evaluator\n",
    "function.\n",
    "\n",
    "Through the YAML interface these objects and their options are specified by name. \n",
    "Here we will make one:"
   ]
  },
  {
   "cell_type": "code",
   "execution_count": 3,
   "metadata": {
    "collapsed": false,
    "execution": {
     "iopub.execute_input": "2022-07-02T04:16:41.887258Z",
     "iopub.status.busy": "2022-07-02T04:16:41.886966Z",
     "iopub.status.idle": "2022-07-02T04:16:41.889280Z",
     "shell.execute_reply": "2022-07-02T04:16:41.889046Z"
    },
    "pycharm": {
     "name": "#%%\n"
    }
   },
   "outputs": [],
   "source": [
    "# Make a proper input file.\n",
    "YAML = \"\"\"\n",
    "xopt: {}\n",
    "evaluator:\n",
    "    function: xopt.resources.test_functions.tnk.evaluate_TNK\n",
    "    function_kwargs:\n",
    "        a: 999\n",
    "\n",
    "generator:\n",
    "    name: random\n",
    "\n",
    "vocs:\n",
    "    variables:\n",
    "        x1: [0, 3.14159]\n",
    "        x2: [0, 3.14159]\n",
    "    objectives: {y1: MINIMIZE, y2: MINIMIZE}\n",
    "    constraints:\n",
    "        c1: [GREATER_THAN, 0]\n",
    "        c2: [LESS_THAN, 0.5]\n",
    "    linked_variables: {x9: x1}\n",
    "    constants: {a: dummy_constant}\n",
    "\n",
    "\"\"\""
   ]
  },
  {
   "cell_type": "code",
   "execution_count": 4,
   "metadata": {
    "collapsed": false,
    "execution": {
     "iopub.execute_input": "2022-07-02T04:16:41.890795Z",
     "iopub.status.busy": "2022-07-02T04:16:41.890691Z",
     "iopub.status.idle": "2022-07-02T04:16:41.898916Z",
     "shell.execute_reply": "2022-07-02T04:16:41.898677Z"
    },
    "pycharm": {
     "name": "#%%\n"
    }
   },
   "outputs": [],
   "source": [
    "# create Xopt object.\n",
    "X = Xopt(YAML)"
   ]
  },
  {
   "cell_type": "code",
   "execution_count": 5,
   "metadata": {
    "execution": {
     "iopub.execute_input": "2022-07-02T04:16:41.900325Z",
     "iopub.status.busy": "2022-07-02T04:16:41.900241Z",
     "iopub.status.idle": "2022-07-02T04:16:41.905569Z",
     "shell.execute_reply": "2022-07-02T04:16:41.905324Z"
    },
    "pycharm": {
     "name": "#%%\n"
    }
   },
   "outputs": [
    {
     "data": {
      "text/plain": [
       "\n",
       "            Xopt\n",
       "________________________________\n",
       "Version: 1.1.2+34.g1ae8512.dirty\n",
       "Data size: 0\n",
       "Config as YAML:\n",
       "xopt: {asynch: false, strict: false, dump_file: null, max_evaluations: null}\n",
       "generator: {name: random}\n",
       "evaluator:\n",
       "  function: xopt.resources.test_functions.tnk.evaluate_TNK\n",
       "  max_workers: 1\n",
       "  function_kwargs: {sleep: 0, random_sleep: 0, raise_probability: 0, a: 999}\n",
       "  vectorized: false\n",
       "vocs:\n",
       "  variables:\n",
       "    x1: [0.0, 3.14159]\n",
       "    x2: [0.0, 3.14159]\n",
       "  constraints:\n",
       "    c1: [GREATER_THAN, 0.0]\n",
       "    c2: [LESS_THAN, 0.5]\n",
       "  objectives: {y1: MINIMIZE, y2: MINIMIZE}\n",
       "  constants: {a: dummy_constant}\n",
       "  linked_variables: {x9: x1}\n"
      ]
     },
     "execution_count": 5,
     "metadata": {},
     "output_type": "execute_result"
    }
   ],
   "source": [
    "# Convenient representation of the state.\n",
    "X"
   ]
  },
  {
   "cell_type": "code",
   "execution_count": 6,
   "metadata": {
    "execution": {
     "iopub.execute_input": "2022-07-02T04:16:41.918454Z",
     "iopub.status.busy": "2022-07-02T04:16:41.918335Z",
     "iopub.status.idle": "2022-07-02T04:16:41.921126Z",
     "shell.execute_reply": "2022-07-02T04:16:41.920869Z"
    },
    "pycharm": {
     "name": "#%%\n"
    }
   },
   "outputs": [
    {
     "data": {
      "text/plain": [
       "{'y1': array([2.86494339, 2.72655167, 1.74038968, 1.14910745, 2.90804986,\n",
       "        1.54739389, 1.27292178, 3.06282256, 0.35100259, 2.61810167]),\n",
       " 'y2': array([0.07357434, 2.86197201, 1.48568949, 1.15015954, 2.2128703 ,\n",
       "        2.76991277, 3.09509784, 3.05361348, 2.92234576, 0.92139569]),\n",
       " 'c1': array([ 7.12163381, 14.53238721,  4.2057041 ,  1.54331758, 12.40902309,\n",
       "         9.09613857, 10.10004144, 17.60546629,  7.6968259 ,  6.6388563 ]),\n",
       " 'c2': array([ 5.77479607, 10.53644413,  2.51015032,  0.84404791,  8.73262878,\n",
       "         6.24953795,  7.33194088, 13.08900124,  5.88995923,  4.66392901]),\n",
       " 'some_array': array([1, 2, 3]),\n",
       " 'xopt_runtime': 3.145800000003973e-05,\n",
       " 'xopt_error': False}"
      ]
     },
     "execution_count": 6,
     "metadata": {},
     "output_type": "execute_result"
    }
   ],
   "source": [
    "X.random_evaluate(10)"
   ]
  },
  {
   "cell_type": "markdown",
   "metadata": {
    "collapsed": false,
    "pycharm": {
     "name": "#%% md\n"
    }
   },
   "source": [
    "## Run Random data generation"
   ]
  },
  {
   "cell_type": "code",
   "execution_count": 7,
   "metadata": {
    "execution": {
     "iopub.execute_input": "2022-07-02T04:16:41.922643Z",
     "iopub.status.busy": "2022-07-02T04:16:41.922533Z",
     "iopub.status.idle": "2022-07-02T04:16:41.924244Z",
     "shell.execute_reply": "2022-07-02T04:16:41.923971Z"
    },
    "pycharm": {
     "name": "#%%\n"
    }
   },
   "outputs": [],
   "source": [
    "import numpy as np\n",
    "np.random.seed(10)"
   ]
  },
  {
   "cell_type": "code",
   "execution_count": 8,
   "metadata": {
    "collapsed": false,
    "execution": {
     "iopub.execute_input": "2022-07-02T04:16:41.925680Z",
     "iopub.status.busy": "2022-07-02T04:16:41.925579Z",
     "iopub.status.idle": "2022-07-02T04:16:41.930411Z",
     "shell.execute_reply": "2022-07-02T04:16:41.930124Z"
    },
    "pycharm": {
     "name": "#%%\n"
    }
   },
   "outputs": [],
   "source": [
    "# Take one step (generate a single point)\n",
    "X.step()"
   ]
  },
  {
   "cell_type": "code",
   "execution_count": 9,
   "metadata": {
    "collapsed": false,
    "execution": {
     "iopub.execute_input": "2022-07-02T04:16:41.931852Z",
     "iopub.status.busy": "2022-07-02T04:16:41.931750Z",
     "iopub.status.idle": "2022-07-02T04:16:41.937439Z",
     "shell.execute_reply": "2022-07-02T04:16:41.937164Z"
    },
    "pycharm": {
     "name": "#%%\n"
    }
   },
   "outputs": [
    {
     "data": {
      "text/html": [
       "<div>\n",
       "<style scoped>\n",
       "    .dataframe tbody tr th:only-of-type {\n",
       "        vertical-align: middle;\n",
       "    }\n",
       "\n",
       "    .dataframe tbody tr th {\n",
       "        vertical-align: top;\n",
       "    }\n",
       "\n",
       "    .dataframe thead th {\n",
       "        text-align: right;\n",
       "    }\n",
       "</style>\n",
       "<table border=\"1\" class=\"dataframe\">\n",
       "  <thead>\n",
       "    <tr style=\"text-align: right;\">\n",
       "      <th></th>\n",
       "      <th>x1</th>\n",
       "      <th>x2</th>\n",
       "      <th>a</th>\n",
       "      <th>x9</th>\n",
       "      <th>y1</th>\n",
       "      <th>y2</th>\n",
       "      <th>c1</th>\n",
       "      <th>c2</th>\n",
       "      <th>some_array</th>\n",
       "      <th>xopt_runtime</th>\n",
       "      <th>xopt_error</th>\n",
       "    </tr>\n",
       "  </thead>\n",
       "  <tbody>\n",
       "    <tr>\n",
       "      <th>1</th>\n",
       "      <td>0.718417</td>\n",
       "      <td>3.076396</td>\n",
       "      <td>dummy_constant</td>\n",
       "      <td>0.718417</td>\n",
       "      <td>0.718417</td>\n",
       "      <td>3.076396</td>\n",
       "      <td>9.066664</td>\n",
       "      <td>6.685522</td>\n",
       "      <td>[1, 2, 3]</td>\n",
       "      <td>0.000017</td>\n",
       "      <td>False</td>\n",
       "    </tr>\n",
       "  </tbody>\n",
       "</table>\n",
       "</div>"
      ],
      "text/plain": [
       "         x1        x2               a        x9        y1        y2        c1  \\\n",
       "1  0.718417  3.076396  dummy_constant  0.718417  0.718417  3.076396  9.066664   \n",
       "\n",
       "         c2 some_array  xopt_runtime  xopt_error  \n",
       "1  6.685522  [1, 2, 3]      0.000017       False  "
      ]
     },
     "execution_count": 9,
     "metadata": {},
     "output_type": "execute_result"
    }
   ],
   "source": [
    "# examine the results\n",
    "X.data"
   ]
  },
  {
   "cell_type": "code",
   "execution_count": 10,
   "metadata": {
    "collapsed": false,
    "execution": {
     "iopub.execute_input": "2022-07-02T04:16:41.938929Z",
     "iopub.status.busy": "2022-07-02T04:16:41.938845Z",
     "iopub.status.idle": "2022-07-02T04:16:41.966369Z",
     "shell.execute_reply": "2022-07-02T04:16:41.966065Z"
    },
    "pycharm": {
     "name": "#%%\n"
    }
   },
   "outputs": [
    {
     "data": {
      "text/html": [
       "<div>\n",
       "<style scoped>\n",
       "    .dataframe tbody tr th:only-of-type {\n",
       "        vertical-align: middle;\n",
       "    }\n",
       "\n",
       "    .dataframe tbody tr th {\n",
       "        vertical-align: top;\n",
       "    }\n",
       "\n",
       "    .dataframe thead th {\n",
       "        text-align: right;\n",
       "    }\n",
       "</style>\n",
       "<table border=\"1\" class=\"dataframe\">\n",
       "  <thead>\n",
       "    <tr style=\"text-align: right;\">\n",
       "      <th></th>\n",
       "      <th>x1</th>\n",
       "      <th>x2</th>\n",
       "      <th>a</th>\n",
       "      <th>x9</th>\n",
       "      <th>y1</th>\n",
       "      <th>y2</th>\n",
       "      <th>c1</th>\n",
       "      <th>c2</th>\n",
       "      <th>some_array</th>\n",
       "      <th>xopt_runtime</th>\n",
       "      <th>xopt_error</th>\n",
       "    </tr>\n",
       "  </thead>\n",
       "  <tbody>\n",
       "    <tr>\n",
       "      <th>1</th>\n",
       "      <td>0.718417</td>\n",
       "      <td>3.076396</td>\n",
       "      <td>dummy_constant</td>\n",
       "      <td>0.718417</td>\n",
       "      <td>0.718417</td>\n",
       "      <td>3.076396</td>\n",
       "      <td>9.066664</td>\n",
       "      <td>6.685522</td>\n",
       "      <td>[1, 2, 3]</td>\n",
       "      <td>0.000017</td>\n",
       "      <td>False</td>\n",
       "    </tr>\n",
       "    <tr>\n",
       "      <th>2</th>\n",
       "      <td>1.150927</td>\n",
       "      <td>0.789155</td>\n",
       "      <td>dummy_constant</td>\n",
       "      <td>1.150927</td>\n",
       "      <td>1.150927</td>\n",
       "      <td>0.789155</td>\n",
       "      <td>1.045563</td>\n",
       "      <td>0.507317</td>\n",
       "      <td>[1, 2, 3]</td>\n",
       "      <td>0.000024</td>\n",
       "      <td>False</td>\n",
       "    </tr>\n",
       "    <tr>\n",
       "      <th>3</th>\n",
       "      <td>1.575485</td>\n",
       "      <td>2.435371</td>\n",
       "      <td>dummy_constant</td>\n",
       "      <td>1.575485</td>\n",
       "      <td>1.575485</td>\n",
       "      <td>2.435371</td>\n",
       "      <td>7.510380</td>\n",
       "      <td>4.902330</td>\n",
       "      <td>[1, 2, 3]</td>\n",
       "      <td>0.000028</td>\n",
       "      <td>False</td>\n",
       "    </tr>\n",
       "    <tr>\n",
       "      <th>4</th>\n",
       "      <td>2.519358</td>\n",
       "      <td>0.752314</td>\n",
       "      <td>dummy_constant</td>\n",
       "      <td>2.519358</td>\n",
       "      <td>2.519358</td>\n",
       "      <td>0.752314</td>\n",
       "      <td>5.920078</td>\n",
       "      <td>4.141468</td>\n",
       "      <td>[1, 2, 3]</td>\n",
       "      <td>0.000018</td>\n",
       "      <td>False</td>\n",
       "    </tr>\n",
       "    <tr>\n",
       "      <th>5</th>\n",
       "      <td>2.610313</td>\n",
       "      <td>2.864063</td>\n",
       "      <td>dummy_constant</td>\n",
       "      <td>2.610313</td>\n",
       "      <td>2.610313</td>\n",
       "      <td>2.864063</td>\n",
       "      <td>13.942816</td>\n",
       "      <td>10.042213</td>\n",
       "      <td>[1, 2, 3]</td>\n",
       "      <td>0.000016</td>\n",
       "      <td>False</td>\n",
       "    </tr>\n",
       "    <tr>\n",
       "      <th>6</th>\n",
       "      <td>0.988470</td>\n",
       "      <td>0.146419</td>\n",
       "      <td>dummy_constant</td>\n",
       "      <td>0.988470</td>\n",
       "      <td>0.988470</td>\n",
       "      <td>0.146419</td>\n",
       "      <td>0.068991</td>\n",
       "      <td>0.363623</td>\n",
       "      <td>[1, 2, 3]</td>\n",
       "      <td>0.000016</td>\n",
       "      <td>False</td>\n",
       "    </tr>\n",
       "    <tr>\n",
       "      <th>7</th>\n",
       "      <td>3.129186</td>\n",
       "      <td>1.532492</td>\n",
       "      <td>dummy_constant</td>\n",
       "      <td>3.129186</td>\n",
       "      <td>3.129186</td>\n",
       "      <td>1.532492</td>\n",
       "      <td>11.086588</td>\n",
       "      <td>7.978659</td>\n",
       "      <td>[1, 2, 3]</td>\n",
       "      <td>0.000016</td>\n",
       "      <td>False</td>\n",
       "    </tr>\n",
       "    <tr>\n",
       "      <th>8</th>\n",
       "      <td>0.588668</td>\n",
       "      <td>1.217284</td>\n",
       "      <td>dummy_constant</td>\n",
       "      <td>0.588668</td>\n",
       "      <td>0.588668</td>\n",
       "      <td>1.217284</td>\n",
       "      <td>0.768029</td>\n",
       "      <td>0.522359</td>\n",
       "      <td>[1, 2, 3]</td>\n",
       "      <td>0.000013</td>\n",
       "      <td>False</td>\n",
       "    </tr>\n",
       "    <tr>\n",
       "      <th>9</th>\n",
       "      <td>0.874131</td>\n",
       "      <td>2.224635</td>\n",
       "      <td>dummy_constant</td>\n",
       "      <td>0.874131</td>\n",
       "      <td>0.874131</td>\n",
       "      <td>2.224635</td>\n",
       "      <td>4.617362</td>\n",
       "      <td>3.114340</td>\n",
       "      <td>[1, 2, 3]</td>\n",
       "      <td>0.000009</td>\n",
       "      <td>False</td>\n",
       "    </tr>\n",
       "    <tr>\n",
       "      <th>10</th>\n",
       "      <td>0.258320</td>\n",
       "      <td>0.896686</td>\n",
       "      <td>dummy_constant</td>\n",
       "      <td>0.258320</td>\n",
       "      <td>0.258320</td>\n",
       "      <td>0.896686</td>\n",
       "      <td>-0.106956</td>\n",
       "      <td>0.215769</td>\n",
       "      <td>[1, 2, 3]</td>\n",
       "      <td>0.000011</td>\n",
       "      <td>False</td>\n",
       "    </tr>\n",
       "    <tr>\n",
       "      <th>11</th>\n",
       "      <td>1.437138</td>\n",
       "      <td>2.694950</td>\n",
       "      <td>dummy_constant</td>\n",
       "      <td>1.437138</td>\n",
       "      <td>1.437138</td>\n",
       "      <td>2.694950</td>\n",
       "      <td>8.326577</td>\n",
       "      <td>5.696033</td>\n",
       "      <td>[1, 2, 3]</td>\n",
       "      <td>0.000015</td>\n",
       "      <td>False</td>\n",
       "    </tr>\n",
       "  </tbody>\n",
       "</table>\n",
       "</div>"
      ],
      "text/plain": [
       "          x1        x2               a        x9        y1        y2  \\\n",
       "1   0.718417  3.076396  dummy_constant  0.718417  0.718417  3.076396   \n",
       "2   1.150927  0.789155  dummy_constant  1.150927  1.150927  0.789155   \n",
       "3   1.575485  2.435371  dummy_constant  1.575485  1.575485  2.435371   \n",
       "4   2.519358  0.752314  dummy_constant  2.519358  2.519358  0.752314   \n",
       "5   2.610313  2.864063  dummy_constant  2.610313  2.610313  2.864063   \n",
       "6   0.988470  0.146419  dummy_constant  0.988470  0.988470  0.146419   \n",
       "7   3.129186  1.532492  dummy_constant  3.129186  3.129186  1.532492   \n",
       "8   0.588668  1.217284  dummy_constant  0.588668  0.588668  1.217284   \n",
       "9   0.874131  2.224635  dummy_constant  0.874131  0.874131  2.224635   \n",
       "10  0.258320  0.896686  dummy_constant  0.258320  0.258320  0.896686   \n",
       "11  1.437138  2.694950  dummy_constant  1.437138  1.437138  2.694950   \n",
       "\n",
       "           c1         c2 some_array  xopt_runtime  xopt_error  \n",
       "1    9.066664   6.685522  [1, 2, 3]      0.000017       False  \n",
       "2    1.045563   0.507317  [1, 2, 3]      0.000024       False  \n",
       "3    7.510380   4.902330  [1, 2, 3]      0.000028       False  \n",
       "4    5.920078   4.141468  [1, 2, 3]      0.000018       False  \n",
       "5   13.942816  10.042213  [1, 2, 3]      0.000016       False  \n",
       "6    0.068991   0.363623  [1, 2, 3]      0.000016       False  \n",
       "7   11.086588   7.978659  [1, 2, 3]      0.000016       False  \n",
       "8    0.768029   0.522359  [1, 2, 3]      0.000013       False  \n",
       "9    4.617362   3.114340  [1, 2, 3]      0.000009       False  \n",
       "10  -0.106956   0.215769  [1, 2, 3]      0.000011       False  \n",
       "11   8.326577   5.696033  [1, 2, 3]      0.000015       False  "
      ]
     },
     "execution_count": 10,
     "metadata": {},
     "output_type": "execute_result"
    }
   ],
   "source": [
    "# take a couple of steps and examine the results\n",
    "for _ in range(10):\n",
    "    X.step()\n",
    "X.data"
   ]
  },
  {
   "cell_type": "markdown",
   "metadata": {
    "collapsed": false,
    "pycharm": {
     "name": "#%% md\n"
    }
   },
   "source": [
    "## Plotting\n",
    "Plot the objective results"
   ]
  },
  {
   "cell_type": "code",
   "execution_count": 11,
   "metadata": {
    "collapsed": false,
    "execution": {
     "iopub.execute_input": "2022-07-02T04:16:41.967929Z",
     "iopub.status.busy": "2022-07-02T04:16:41.967837Z",
     "iopub.status.idle": "2022-07-02T04:16:42.285669Z",
     "shell.execute_reply": "2022-07-02T04:16:42.285372Z"
    },
    "pycharm": {
     "name": "#%%\n"
    }
   },
   "outputs": [
    {
     "data": {
      "text/plain": [
       "<AxesSubplot:xlabel='y1', ylabel='y2'>"
      ]
     },
     "execution_count": 11,
     "metadata": {},
     "output_type": "execute_result"
    },
    {
     "data": {
      "image/png": "[encoded data removed]",
      "text/plain": [
       "<Figure size 640x480 with 1 Axes>"
      ]
     },
     "metadata": {
      "image/png": {
       "height": 432,
       "width": 567
      }
     },
     "output_type": "display_data"
    }
   ],
   "source": [
    "import matplotlib.pyplot as plt\n",
    "\n",
    "X.data.plot(*X.vocs.objective_names, kind=\"scatter\")"
   ]
  },
  {
   "cell_type": "markdown",
   "metadata": {
    "pycharm": {
     "name": "#%% md\n"
    }
   },
   "source": [
    "## Alternative initialization methods\n",
    "\n",
    "For convenience, if the first (and only) positional argument is present, then Xopt will automatically try to load from JSON, YAML str or files, or as a dict."
   ]
  },
  {
   "cell_type": "code",
   "execution_count": 12,
   "metadata": {
    "execution": {
     "iopub.execute_input": "2022-07-02T04:16:42.287349Z",
     "iopub.status.busy": "2022-07-02T04:16:42.287211Z",
     "iopub.status.idle": "2022-07-02T04:16:42.331639Z",
     "shell.execute_reply": "2022-07-02T04:16:42.331318Z"
    },
    "pycharm": {
     "name": "#%%\n"
    }
   },
   "outputs": [],
   "source": [
    "import yaml\n",
    "import json\n",
    "\n",
    "config  = yaml.safe_load(YAML) \n",
    "# All these methods work\n",
    "\n",
    "X = Xopt(YAML)\n",
    "X = Xopt(config)\n",
    "X = Xopt(json.dumps(config, indent=4))\n"
   ]
  },
  {
   "cell_type": "markdown",
   "metadata": {
    "pycharm": {
     "name": "#%% md\n"
    }
   },
   "source": [
    "## Convenience Methods"
   ]
  },
  {
   "cell_type": "code",
   "execution_count": 13,
   "metadata": {
    "execution": {
     "iopub.execute_input": "2022-07-02T04:16:42.333289Z",
     "iopub.status.busy": "2022-07-02T04:16:42.333176Z",
     "iopub.status.idle": "2022-07-02T04:16:42.335765Z",
     "shell.execute_reply": "2022-07-02T04:16:42.335496Z"
    },
    "pycharm": {
     "name": "#%%\n"
    }
   },
   "outputs": [
    {
     "data": {
      "text/plain": [
       "{'y1': 0.5,\n",
       " 'y2': 0.5,\n",
       " 'c1': -0.6,\n",
       " 'c2': 0.0,\n",
       " 'some_array': array([1, 2, 3]),\n",
       " 'xopt_runtime': 3.341700000003556e-05,\n",
       " 'xopt_error': False}"
      ]
     },
     "execution_count": 13,
     "metadata": {},
     "output_type": "execute_result"
    }
   ],
   "source": [
    "# Call the evaluator's function directly.\n",
    "X.evaluate({'x1': .5, 'x2': 0.5})"
   ]
  },
  {
   "cell_type": "code",
   "execution_count": 14,
   "metadata": {
    "execution": {
     "iopub.execute_input": "2022-07-02T04:16:42.337279Z",
     "iopub.status.busy": "2022-07-02T04:16:42.337176Z",
     "iopub.status.idle": "2022-07-02T04:16:42.339188Z",
     "shell.execute_reply": "2022-07-02T04:16:42.338913Z"
    },
    "pycharm": {
     "name": "#%%\n"
    }
   },
   "outputs": [
    {
     "data": {
      "text/plain": [
       "{'x1': 1.9687064016299047,\n",
       " 'x2': 1.0237385762437203,\n",
       " 'a': 'dummy_constant',\n",
       " 'x9': 1.9687064016299047}"
      ]
     },
     "execution_count": 14,
     "metadata": {},
     "output_type": "execute_result"
    }
   ],
   "source": [
    "# Create random inputs according to the vocs\n",
    "X.random_inputs()"
   ]
  },
  {
   "cell_type": "code",
   "execution_count": 15,
   "metadata": {
    "execution": {
     "iopub.execute_input": "2022-07-02T04:16:42.340700Z",
     "iopub.status.busy": "2022-07-02T04:16:42.340598Z",
     "iopub.status.idle": "2022-07-02T04:16:42.343035Z",
     "shell.execute_reply": "2022-07-02T04:16:42.342769Z"
    },
    "pycharm": {
     "name": "#%%\n"
    }
   },
   "outputs": [
    {
     "data": {
      "text/plain": [
       "{'y1': 0.7184167803196234,\n",
       " 'y2': 3.0763958834119975,\n",
       " 'c1': 9.066663826202975,\n",
       " 'c2': 6.6855216379874784,\n",
       " 'some_array': array([1, 2, 3]),\n",
       " 'xopt_runtime': 3.920800000001279e-05,\n",
       " 'xopt_error': False}"
      ]
     },
     "execution_count": 15,
     "metadata": {},
     "output_type": "execute_result"
    }
   ],
   "source": [
    "# These can be combined:\n",
    "np.random.seed(10)\n",
    "X.evaluate(X.random_inputs())"
   ]
  },
  {
   "cell_type": "code",
   "execution_count": 16,
   "metadata": {
    "execution": {
     "iopub.execute_input": "2022-07-02T04:16:42.344567Z",
     "iopub.status.busy": "2022-07-02T04:16:42.344463Z",
     "iopub.status.idle": "2022-07-02T04:16:42.346823Z",
     "shell.execute_reply": "2022-07-02T04:16:42.346569Z"
    },
    "pycharm": {
     "name": "#%%\n"
    }
   },
   "outputs": [
    {
     "data": {
      "text/plain": [
       "{'y1': 0.7184167803196234,\n",
       " 'y2': 3.0763958834119975,\n",
       " 'c1': 9.066663826202975,\n",
       " 'c2': 6.6855216379874784,\n",
       " 'some_array': array([1, 2, 3]),\n",
       " 'xopt_runtime': 3.32080000000623e-05,\n",
       " 'xopt_error': False}"
      ]
     },
     "execution_count": 16,
     "metadata": {},
     "output_type": "execute_result"
    }
   ],
   "source": [
    "# And this is a convenience method for above\n",
    "np.random.seed(10)\n",
    "X.random_evaluate()"
   ]
  },
  {
   "cell_type": "markdown",
   "metadata": {
    "pycharm": {
     "name": "#%% md\n"
    }
   },
   "source": [
    "## Logging\n",
    "\n",
    "Normally Xopt will not issue print statments, and instead issue logging messages. Below will enable these to be seen in the notebook"
   ]
  },
  {
   "cell_type": "code",
   "execution_count": 17,
   "metadata": {
    "execution": {
     "iopub.execute_input": "2022-07-02T04:16:42.348536Z",
     "iopub.status.busy": "2022-07-02T04:16:42.348278Z",
     "iopub.status.idle": "2022-07-02T04:16:42.350013Z",
     "shell.execute_reply": "2022-07-02T04:16:42.349722Z"
    },
    "pycharm": {
     "name": "#%%\n"
    }
   },
   "outputs": [],
   "source": [
    "# Notebook printing output\n",
    "from xopt import output_notebook\n",
    "output_notebook()"
   ]
  },
  {
   "cell_type": "code",
   "execution_count": 18,
   "metadata": {
    "execution": {
     "iopub.execute_input": "2022-07-02T04:16:42.351443Z",
     "iopub.status.busy": "2022-07-02T04:16:42.351340Z",
     "iopub.status.idle": "2022-07-02T04:16:42.355782Z",
     "shell.execute_reply": "2022-07-02T04:16:42.355495Z"
    },
    "pycharm": {
     "name": "#%%\n"
    }
   },
   "outputs": [
    {
     "name": "stdout",
     "output_type": "stream",
     "text": [
      "Running Xopt step\n"
     ]
    }
   ],
   "source": [
    "X.step()"
   ]
  }
 ],
 "metadata": {
  "interpreter": {
   "hash": "72034539424920dfb606fe3b820b3f27dca0cbf1c69938110810ec4641e275b1"
  },
  "kernelspec": {
   "display_name": "Python 3.9.12 ('xopt-dev')",
   "language": "python",
   "name": "python3"
  },
  "language_info": {
   "codemirror_mode": {
    "name": "ipython",
    "version": 3
   },
   "file_extension": ".py",
   "mimetype": "text/x-python",
   "name": "python",
   "nbconvert_exporter": "python",
   "pygments_lexer": "ipython3",
   "version": "3.9.13"
  }
 },
 "nbformat": 4,
 "nbformat_minor": 4
}
