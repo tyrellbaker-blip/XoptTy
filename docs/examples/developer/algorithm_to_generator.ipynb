{
 "cells": [
  {
   "cell_type": "markdown",
   "id": "57bd40dc-347b-41a4-87a4-a33a0c0b9611",
   "metadata": {},
   "source": [
    "# Convering an algorithm to a generator\n",
    "\n"
   ]
  },
  {
   "cell_type": "markdown",
   "id": "1540b265-c4d2-4c41-9498-cf998cd90642",
   "metadata": {},
   "source": [
    "## Some test function"
   ]
  },
  {
   "cell_type": "code",
   "execution_count": 1,
   "id": "35dedf79-21c1-42a6-9e13-79dc34bc0245",
   "metadata": {},
   "outputs": [],
   "source": [
    "def f(x):\n",
    "    print(f'evaluate f({x})')\n",
    "    return 2*x"
   ]
  },
  {
   "cell_type": "markdown",
   "id": "1aee6c72-ea44-4a69-b299-679fc48c3d7b",
   "metadata": {},
   "source": [
    "## algorithm functional form"
   ]
  },
  {
   "cell_type": "code",
   "execution_count": 2,
   "id": "af125e67-a2d9-46f7-9f41-723531576ff7",
   "metadata": {},
   "outputs": [
    {
     "name": "stdout",
     "output_type": "stream",
     "text": [
      "evaluate f(0)\n",
      "evaluate f(1)\n",
      "1 2\n",
      "evaluate f(3)\n",
      "3 6\n",
      "evaluate f(6)\n",
      "6 12\n",
      "evaluate f(10)\n",
      "10 20\n",
      "evaluate f(15)\n",
      "15 30\n"
     ]
    }
   ],
   "source": [
    "def algorithm(func):\n",
    "    \n",
    "    x = 0\n",
    "    y = func(x)\n",
    "    \n",
    "    i = 0\n",
    "    while i < 5:\n",
    "        i += 1\n",
    "        \n",
    "        x += i\n",
    "        y = func(x)\n",
    "        print(x, y)\n",
    "\n",
    "algorithm(f)        "
   ]
  },
  {
   "cell_type": "markdown",
   "id": "9ff706d9-8d54-440b-bcb4-9429df129c0b",
   "metadata": {},
   "source": [
    "## Generator version\n",
    "\n",
    "This is a copy-paste of `algorithm`, but with `yield x` inserted before every call to `func(x)`.\n",
    "\n",
    "This allows for stepping through the algorithm, controlling the function evaluations separately.\n",
    "\n",
    "TODO: stopping criteria"
   ]
  },
  {
   "cell_type": "code",
   "execution_count": 3,
   "id": "daf22b82-1fb9-4e88-b0fa-e7f8a7c10033",
   "metadata": {},
   "outputs": [],
   "source": [
    "def algorithm2(func):\n",
    "    x = 0\n",
    "    yield x\n",
    "    y = func(x)\n",
    "    \n",
    "    i = 0\n",
    "    while i < 5:\n",
    "        i += 1\n",
    "        \n",
    "        x += i\n",
    "        yield x\n",
    "        y = func(x)\n",
    "        print(x, y)  "
   ]
  },
  {
   "cell_type": "code",
   "execution_count": 4,
   "id": "4a906da1-b213-48ca-a261-458decb89e05",
   "metadata": {},
   "outputs": [],
   "source": [
    "class Generator:\n",
    "    def __init__(self):\n",
    "        self.alg = algorithm2(lambda x: self.data[x]) \n",
    "        self.data = {}\n",
    "        \n",
    "    def generate(self):\n",
    "        x =  next(self.alg)    \n",
    "        while x in self.data:\n",
    "            x = next(self.alg)    \n",
    "        return x\n",
    "    \n",
    "    def add_data(self, x, y):\n",
    "        self.data[x] = y"
   ]
  },
  {
   "cell_type": "code",
   "execution_count": 5,
   "id": "963fe411-0e9e-4934-aa70-0bb1e82d8b11",
   "metadata": {},
   "outputs": [
    {
     "name": "stdout",
     "output_type": "stream",
     "text": [
      "--- step 1 ---\n",
      "evaluate f(0)\n",
      "--- step 2 ---\n",
      "evaluate f(1)\n",
      "--- step 3 ---\n",
      "1 2\n",
      "evaluate f(3)\n",
      "--- step 4 ---\n",
      "3 6\n",
      "evaluate f(6)\n",
      "--- step 5 ---\n",
      "6 12\n",
      "evaluate f(10)\n",
      "--- step 6 ---\n",
      "10 20\n",
      "evaluate f(15)\n",
      "--- step 7 ---\n",
      "15 30\n"
     ]
    }
   ],
   "source": [
    "G = Generator()\n",
    "\n",
    "for step in range(10):\n",
    "    print(f'--- step {step +1} ---')\n",
    "    try:\n",
    "        x = G.generate()\n",
    "        y = f(x) # actual call to f\n",
    "        G.add_data(x, y)\n",
    "    except StopIteration:\n",
    "        G.alg.close() # Clean up\n",
    "        break\n",
    "    "
   ]
  }
 ],
 "metadata": {
  "kernelspec": {
   "display_name": "Python 3.9.13 ('xopt-dev')",
   "language": "python",
   "name": "python3"
  },
  "language_info": {
   "codemirror_mode": {
    "name": "ipython",
    "version": 3
   },
   "file_extension": ".py",
   "mimetype": "text/x-python",
   "name": "python",
   "nbconvert_exporter": "python",
   "pygments_lexer": "ipython3",
   "version": "3.9.13"
  },
  "vscode": {
   "interpreter": {
    "hash": "72034539424920dfb606fe3b820b3f27dca0cbf1c69938110810ec4641e275b1"
   }
  }
 },
 "nbformat": 4,
 "nbformat_minor": 5
}
